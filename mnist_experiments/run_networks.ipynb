{
 "cells": [
  {
   "cell_type": "code",
   "execution_count": null,
   "metadata": {
    "collapsed": true
   },
   "outputs": [],
   "source": [
    "from mnist_dataset import ImageAndLabelSet\n",
    "from networks import FCNet, ResNet6\n",
    "import numpy as np\n",
    "from os import path\n",
    "import matplotlib.pyplot as plt"
   ]
  },
  {
   "cell_type": "code",
   "execution_count": null,
   "metadata": {
    "collapsed": false
   },
   "outputs": [],
   "source": [
    "# Get the dataset\n",
    "mnist_data_root = path.expanduser(\"~/coding/tensorflow_sandbox/data/\")\n",
    "\n",
    "image_and_label_set = ImageAndLabelSet(path.join(mnist_data_root, 'train-images-idx3-ubyte'),\n",
    "                                       path.join(mnist_data_root, 'train-labels-idx1-ubyte') )"
   ]
  },
  {
   "cell_type": "markdown",
   "metadata": {},
   "source": [
    "# Fully Connected Network"
   ]
  },
  {
   "cell_type": "code",
   "execution_count": null,
   "metadata": {
    "collapsed": false
   },
   "outputs": [],
   "source": [
    "# Define a network that downsamples and then trains a single FC layer\n",
    "fc_net = FCNet()\n",
    "\n",
    "for b in range(1000):\n",
    "    image_batch, label_batch = image_and_label_set.getNextBatch(batchSize=32)\n",
    "    image_batch = np.reshape(image_batch, (-1, 28, 28, 1)) # Add a channel dimension\n",
    "    \n",
    "    fc_net.train_batch(image_batch, label_batch)\n",
    "    \n",
    "    if b % 100 == 0:\n",
    "        print('batch {}: CE: {}\\tacc: {}'.format(b, fc_net._running_ce.get(), fc_net._running_acc.get()))"
   ]
  },
  {
   "cell_type": "code",
   "execution_count": null,
   "metadata": {
    "collapsed": false
   },
   "outputs": [],
   "source": [
    "# Plot the training results for this network\n",
    "fig, ax = plt.subplots()\n",
    "ax.plot(fc_net._ce_history)\n",
    "ax2 = ax.twinx()\n",
    "ax2.plot([100.0*(1.0 - x) for x in fc_net._acc_history], 'r')\n",
    "ax2.set_yscale('log')\n",
    "ax2.set_ylabel('Error rate (%)')\n",
    "plt.show()"
   ]
  },
  {
   "cell_type": "markdown",
   "metadata": {},
   "source": [
    "# ResNet6"
   ]
  },
  {
   "cell_type": "code",
   "execution_count": null,
   "metadata": {
    "collapsed": false
   },
   "outputs": [],
   "source": [
    "# Define a network that downsamples and then trains a single FC layer\n",
    "res_net = ResNet6()\n",
    "\n",
    "for b in range(1000):\n",
    "    image_batch, label_batch = image_and_label_set.getNextBatch(batchSize=32)\n",
    "    image_batch = np.reshape(image_batch, (-1, 28, 28, 1)) # Add a channel dimension\n",
    "    \n",
    "    res_net.train_batch(image_batch, label_batch)\n",
    "    \n",
    "    if b % 100 == 0:\n",
    "        print('batch {}: CE: {}\\tacc: {}'.format(b, res_net._running_ce.get(), res_net._running_acc.get()))"
   ]
  },
  {
   "cell_type": "code",
   "execution_count": null,
   "metadata": {
    "collapsed": false
   },
   "outputs": [],
   "source": [
    "# Plot the training results for this network\n",
    "fig, ax = plt.subplots()\n",
    "ax.plot(res_net._ce_history)\n",
    "ax2 = ax.twinx()\n",
    "ax2.plot([100.0*(1.0 - x) for x in res_net._acc_history], 'r')\n",
    "ax2.set_yscale('log')\n",
    "ax2.set_ylabel('Error rate (%)')\n",
    "plt.show()"
   ]
  }
 ],
 "metadata": {
  "kernelspec": {
   "display_name": "Python 3",
   "language": "python",
   "name": "python3"
  },
  "language_info": {
   "codemirror_mode": {
    "name": "ipython",
    "version": 3
   },
   "file_extension": ".py",
   "mimetype": "text/x-python",
   "name": "python",
   "nbconvert_exporter": "python",
   "pygments_lexer": "ipython3",
   "version": "3.5.3"
  }
 },
 "nbformat": 4,
 "nbformat_minor": 1
}
