{
 "cells": [
  {
   "cell_type": "code",
   "execution_count": 1,
   "metadata": {},
   "outputs": [],
   "source": [
    "from mnist_dataset import ImageAndLabelSet\n",
    "from networks import FCNet, ResNet6\n",
    "import numpy as np\n",
    "from os import path\n",
    "import matplotlib.pyplot as plt"
   ]
  },
  {
   "cell_type": "code",
   "execution_count": 2,
   "metadata": {},
   "outputs": [],
   "source": [
    "# Get the dataset\n",
    "mnist_data_root = path.expanduser(\"~/data/mnist\")\n",
    "\n",
    "image_and_label_set = ImageAndLabelSet(path.join(mnist_data_root, 'train-images-idx3-ubyte'),\n",
    "                                       path.join(mnist_data_root, 'train-labels-idx1-ubyte'),\n",
    "                                       training_fraction=(5.0/6.0))"
   ]
  },
  {
   "cell_type": "code",
   "execution_count": null,
   "metadata": {},
   "outputs": [],
   "source": [
    "image_and_label_set.get_validation_batches()"
   ]
  },
  {
   "cell_type": "code",
   "execution_count": null,
   "metadata": {},
   "outputs": [],
   "source": [
    "?Generator"
   ]
  },
  {
   "cell_type": "code",
   "execution_count": null,
   "metadata": {},
   "outputs": [],
   "source": [
    "from typing import Generator\n",
    "\n",
    "def foo(x: Generator[int, None, None]):\n",
    "    return None"
   ]
  },
  {
   "cell_type": "markdown",
   "metadata": {},
   "source": [
    "# Fully Connected Network"
   ]
  },
  {
   "cell_type": "code",
   "execution_count": null,
   "metadata": {},
   "outputs": [],
   "source": [
    "# Define a network that downsamples and then trains a single FC layer\n",
    "fc_net = FCNet()\n",
    "\n",
    "for b in range(1000):\n",
    "    image_batch, label_batch = image_and_label_set.get_next_training_batch(batch_size=32)\n",
    "    image_batch = np.reshape(image_batch, (-1, 28, 28, 1)) # Add a channel dimension\n",
    "    \n",
    "    fc_net.train_batch(image_batch, label_batch)\n",
    "    \n",
    "    if b % 100 == 0:\n",
    "        print('batch {}: CE: {}\\tacc: {}'.format(b, fc_net._running_ce.get(), fc_net._running_acc.get()))"
   ]
  },
  {
   "cell_type": "code",
   "execution_count": null,
   "metadata": {},
   "outputs": [],
   "source": [
    "# Plot the training results for this network\n",
    "fig, ax = plt.subplots()\n",
    "ax.plot(fc_net._ce_history)\n",
    "ax2 = ax.twinx()\n",
    "ax2.plot([100.0*(1.0 - x) for x in fc_net._acc_history], 'r')\n",
    "ax2.set_yscale('log')\n",
    "ax2.set_ylabel('Error rate (%)')\n",
    "plt.show()"
   ]
  },
  {
   "cell_type": "markdown",
   "metadata": {},
   "source": [
    "# ResNet6"
   ]
  },
  {
   "cell_type": "code",
   "execution_count": 3,
   "metadata": {},
   "outputs": [
    {
     "name": "stdout",
     "output_type": "stream",
     "text": [
      "WARNING:tensorflow:From /home/harry/anaconda3/envs/tensorflow_1_13/lib/python3.6/site-packages/tensorflow/python/framework/op_def_library.py:263: colocate_with (from tensorflow.python.framework.ops) is deprecated and will be removed in a future version.\n",
      "Instructions for updating:\n",
      "Colocations handled automatically by placer.\n",
      "WARNING:tensorflow:From /home/harry/anaconda3/envs/tensorflow_1_13/lib/python3.6/site-packages/tensorflow/python/ops/losses/losses_impl.py:209: to_float (from tensorflow.python.ops.math_ops) is deprecated and will be removed in a future version.\n",
      "Instructions for updating:\n",
      "Use tf.cast instead.\n",
      "batch 0: CE: 2.3006715774536133\tacc: 0.21875\n",
      "batch 100: CE: 2.1917957773290664\tacc: 0.25671476229242807\n",
      "batch 200: CE: 1.1849706113410379\tacc: 0.6053414812557002\n",
      "batch 300: CE: 0.6270974455483389\tacc: 0.7941053614812806\n",
      "batch 400: CE: 0.3841447820239219\tacc: 0.8790316841044731\n",
      "batch 500: CE: 0.26114868303943006\tacc: 0.9165114864636473\n",
      "batch 600: CE: 0.1983020704757997\tacc: 0.933675833921528\n",
      "batch 700: CE: 0.16691839495210314\tacc: 0.9440532368025171\n",
      "batch 800: CE: 0.13972974626019496\tacc: 0.9568547182920788\n",
      "batch 900: CE: 0.1218102844376135\tacc: 0.9629490414809346\n",
      "batch 1000: CE: 0.10833771668805046\tacc: 0.9677968834840442\n",
      "batch 1100: CE: 0.09125116471692453\tacc: 0.9733415595676361\n",
      "batch 1200: CE: 0.08659815979467464\tacc: 0.9720384935112005\n",
      "batch 1300: CE: 0.08483861601102367\tacc: 0.9723157013048906\n",
      "batch 1400: CE: 0.0895010763651791\tacc: 0.9705553310122021\n",
      "batch 1500: CE: 0.09180219056050683\tacc: 0.970427844798601\n",
      "batch 1600: CE: 0.09468312748589877\tacc: 0.9728415107014666\n",
      "batch 1700: CE: 0.08187129062504826\tacc: 0.9756862805683766\n",
      "batch 1800: CE: 0.07501324915285977\tacc: 0.9779489903217919\n",
      "batch 1900: CE: 0.07736541052861448\tacc: 0.9788737658137769\n",
      "batch 2000: CE: 0.07756895445445126\tacc: 0.9754221683385621\n",
      "batch 2100: CE: 0.07756792204777888\tacc: 0.9769123607926418\n",
      "batch 2200: CE: 0.06820296042830058\tacc: 0.9786980332304378\n",
      "batch 2300: CE: 0.06202937466138333\tacc: 0.9802137928201251\n",
      "batch 2400: CE: 0.05585997922148723\tacc: 0.9822510878758242\n",
      "batch 2500: CE: 0.05774682300257414\tacc: 0.9825574406902716\n",
      "batch 2600: CE: 0.05286892763658605\tacc: 0.981557430555227\n",
      "batch 2700: CE: 0.04956970593675351\tacc: 0.9840513055501154\n",
      "batch 2800: CE: 0.04862587913135506\tacc: 0.9853805279959388\n",
      "batch 2900: CE: 0.055058993106785185\tacc: 0.9822652576273043\n",
      "batch 3000: CE: 0.05837921001281934\tacc: 0.9828460739454422\n",
      "batch 3100: CE: 0.05300066481044967\tacc: 0.9819325621697251\n",
      "batch 3200: CE: 0.050815546697148675\tacc: 0.9848208681945949\n",
      "batch 3300: CE: 0.04843755811548784\tacc: 0.9863699619822656\n",
      "batch 3400: CE: 0.055323662400363904\tacc: 0.984505386694872\n",
      "batch 3500: CE: 0.05370099733494345\tacc: 0.984605351910267\n",
      "batch 3600: CE: 0.05143705362256716\tacc: 0.9848664525631553\n",
      "batch 3700: CE: 0.05602516292489112\tacc: 0.9833621318219649\n",
      "batch 3800: CE: 0.046651835144542145\tacc: 0.9852039120327217\n",
      "batch 3900: CE: 0.04916460857537194\tacc: 0.9854336115051716\n",
      "batch 4000: CE: 0.037937608602790426\tacc: 0.9880029366734621\n",
      "batch 4100: CE: 0.036096872534044054\tacc: 0.9889378083542564\n",
      "batch 4200: CE: 0.04155635452201267\tacc: 0.9884974121286921\n",
      "batch 4300: CE: 0.03648761959349603\tacc: 0.98825007237481\n",
      "batch 4400: CE: 0.030911689680729753\tacc: 0.9897421308792179\n",
      "batch 4500: CE: 0.04174918343399805\tacc: 0.9848851848616196\n",
      "batch 4600: CE: 0.04263271727967039\tacc: 0.9861266063160787\n",
      "batch 4700: CE: 0.03527102584878936\tacc: 0.9883829565889651\n",
      "batch 4800: CE: 0.02974641276622998\tacc: 0.9906510298298001\n",
      "batch 4900: CE: 0.03612488999104684\tacc: 0.98999787417511\n",
      "batch 5000: CE: 0.03612208936584824\tacc: 0.9881928421577898\n",
      "batch 5100: CE: 0.03729735059016001\tacc: 0.9876592553574323\n",
      "batch 5200: CE: 0.033100424496647574\tacc: 0.9900113601672692\n",
      "batch 5300: CE: 0.035155610910698624\tacc: 0.988589023259326\n",
      "batch 5400: CE: 0.030585284379866042\tacc: 0.989605244404928\n",
      "batch 5500: CE: 0.0282668273107754\tacc: 0.9908220281780602\n",
      "batch 5600: CE: 0.035087050847098726\tacc: 0.9896262491857506\n",
      "batch 5700: CE: 0.032951411833747536\tacc: 0.9893394526708609\n",
      "batch 5800: CE: 0.02958648992132874\tacc: 0.9896774654425344\n",
      "batch 5900: CE: 0.02876255276053252\tacc: 0.990228065225597\n",
      "batch 6000: CE: 0.03294280021705271\tacc: 0.9897103513711456\n",
      "batch 6100: CE: 0.028734138430975234\tacc: 0.9919514632721268\n",
      "batch 6200: CE: 0.027776825361954253\tacc: 0.9923899830050461\n",
      "batch 6300: CE: 0.03225189653610667\tacc: 0.9914890979679024\n",
      "batch 6400: CE: 0.02216260611112969\tacc: 0.9939664119611714\n",
      "batch 6500: CE: 0.03538771279988186\tacc: 0.9911132536861016\n",
      "batch 6600: CE: 0.03196306888172546\tacc: 0.9922156459004224\n",
      "batch 6700: CE: 0.02639248988469524\tacc: 0.9921366138202825\n",
      "batch 6800: CE: 0.02580061347043627\tacc: 0.9923526910232657\n",
      "batch 6900: CE: 0.024950500442516257\tacc: 0.9921942992793252\n",
      "batch 7000: CE: 0.024571942124891298\tacc: 0.9917963351789558\n",
      "batch 7100: CE: 0.023747897808573944\tacc: 0.9920300615882591\n",
      "batch 7200: CE: 0.023885727907296834\tacc: 0.9927170699643768\n",
      "batch 7300: CE: 0.021118554115121438\tacc: 0.9929076698184046\n",
      "batch 7400: CE: 0.01721188788081307\tacc: 0.993867627543719\n",
      "batch 7500: CE: 0.019809437404795825\tacc: 0.9929482869439581\n",
      "batch 7600: CE: 0.02631280994736639\tacc: 0.9909529470784695\n",
      "batch 7700: CE: 0.03087554080550459\tacc: 0.9901937392314061\n",
      "batch 7800: CE: 0.024317179614569223\tacc: 0.9919446623785456\n",
      "batch 7900: CE: 0.0258350598702139\tacc: 0.991807088203271\n",
      "batch 8000: CE: 0.023461365637797407\tacc: 0.9935897229801506\n",
      "batch 8100: CE: 0.020213278246000332\tacc: 0.992987197878376\n",
      "batch 8200: CE: 0.027178207258910358\tacc: 0.9914875887217867\n",
      "batch 8300: CE: 0.02433616569578715\tacc: 0.9924530284696313\n",
      "batch 8400: CE: 0.025015755386428414\tacc: 0.9916155629423327\n",
      "batch 8500: CE: 0.020207167869717595\tacc: 0.9936037962321546\n",
      "batch 8600: CE: 0.026718198090224736\tacc: 0.9915041348727192\n",
      "batch 8700: CE: 0.024621560876781103\tacc: 0.9916201389784988\n",
      "batch 8800: CE: 0.023303263741620284\tacc: 0.99251938384309\n",
      "batch 8900: CE: 0.026017239084689624\tacc: 0.9911303489478158\n",
      "batch 9000: CE: 0.021169845333358955\tacc: 0.9927793217388519\n",
      "batch 9100: CE: 0.018275676642573176\tacc: 0.9935489828128394\n",
      "batch 9200: CE: 0.019182403458663087\tacc: 0.9935675154456292\n",
      "batch 9300: CE: 0.017058224855027063\tacc: 0.9937460915129255\n",
      "batch 9400: CE: 0.0169581114302563\tacc: 0.9941184239035152\n",
      "batch 9500: CE: 0.01850868830495036\tacc: 0.993718886294912\n",
      "batch 9600: CE: 0.02038764985946645\tacc: 0.9943516519777345\n",
      "batch 9700: CE: 0.018448026374234136\tacc: 0.9942736427666191\n",
      "batch 9800: CE: 0.016306756411338195\tacc: 0.9948584331900823\n",
      "batch 9900: CE: 0.01380389554523599\tacc: 0.9960075549475336\n"
     ]
    }
   ],
   "source": [
    "# Define a network that downsamples and then trains a single FC layer\n",
    "res_net = ResNet6()\n",
    "\n",
    "for b in range(10000):\n",
    "    image_batch, label_batch = image_and_label_set.get_next_training_batch(batch_size=32)\n",
    "    image_batch = np.reshape(image_batch, (-1, 28, 28, 1)) # Add a channel dimension\n",
    "    \n",
    "    res_net.train_batch(image_batch, label_batch)\n",
    "    \n",
    "    if b % 100 == 0:\n",
    "        print('batch {}: CE: {}\\tacc: {}'.format(b, res_net._running_ce.get(), res_net._running_acc.get()))\n",
    "        \n",
    "    if b % 500 == 0:\n",
    "        res_net.evaluate_on_batch_generator(image_and_label_set.get_validation_batches())\n",
    "        \n",
    "#         print('Running validation...')\n",
    "#         count = 0.0; ce_val = 0.0; acc_val = 0.0\n",
    "#         for image_batch, label_batch in image_and_label_set.get_validation_batches():\n",
    "#             image_batch = np.reshape(image_batch, (-1, 28, 28, 1)) # Add a channel dimension\n",
    "#             count_this_batch, ce_this_batch, acc_this_batch = res_net.evaluate_on_batch(image_batch, label_batch)\n",
    "#             ce_val += (ce_this_batch - ce_val) * count_this_batch / (count_this_batch + count)\n",
    "#             acc_val += (acc_this_batch - acc_val) * count_this_batch / (count_this_batch + count)\n",
    "#             count += count_this_batch\n",
    "#         print('Count: {}'.format(count))\n",
    "#         print('Acc: {}'.format(acc_val))\n",
    "#         print('CE loss: {}'.format(ce_val))\n",
    "            \n",
    "        "
   ]
  },
  {
   "cell_type": "code",
   "execution_count": 4,
   "metadata": {},
   "outputs": [
    {
     "data": {
      "image/png": "[encoded data removed]",
      "text/plain": [
       "<Figure size 432x288 with 2 Axes>"
      ]
     },
     "metadata": {
      "needs_background": "light"
     },
     "output_type": "display_data"
    }
   ],
   "source": [
    "# Plot the training results for this network\n",
    "fig, ax = plt.subplots()\n",
    "ax.plot(res_net._ce_history)\n",
    "ax2 = ax.twinx()\n",
    "ax2.plot([100.0*(1.0 - x) for x in res_net._acc_history], 'r')\n",
    "ax2.set_yscale('log')\n",
    "ax2.set_ylabel('Error rate (%)')\n",
    "plt.show()"
   ]
  },
  {
   "cell_type": "code",
   "execution_count": 18,
   "metadata": {},
   "outputs": [
    {
     "data": {
      "image/png": "[encoded data removed]",
      "text/plain": [
       "<Figure size 432x288 with 2 Axes>"
      ]
     },
     "metadata": {
      "needs_background": "light"
     },
     "output_type": "display_data"
    },
    {
     "name": "stdout",
     "output_type": "stream",
     "text": [
      "Error rate after 304032 training samples is 1.58%\n"
     ]
    }
   ],
   "source": [
    "# Plot the validation results\n",
    "fig, ax = plt.subplots()\n",
    "num_samples, ce_hist, acc_hist = [res_net.get_validation_history()[x]\n",
    "                                  for x in ['num_training_examples', 'cross-entropy', 'accuracy']]\n",
    "ax.plot(num_samples, ce_hist)\n",
    "ax.set_ylabel('cross entropy')\n",
    "ax2 = ax.twinx()\n",
    "ax2.plot(num_samples, [100.0*(1.0 - acc) for acc in acc_hist], 'r')\n",
    "ax2.set_yscale('log')\n",
    "ax2.set_ylabel('Error rate [%]')\n",
    "plt.show()\n",
    "\n",
    "print('Error rate after {} training samples is {:.4}%'.format(num_samples[-1], 100.0*(1.0 - acc_hist[-1])))"
   ]
  }
 ],
 "metadata": {
  "kernelspec": {
   "display_name": "Python 3",
   "language": "python",
   "name": "python3"
  },
  "language_info": {
   "codemirror_mode": {
    "name": "ipython",
    "version": 3
   },
   "file_extension": ".py",
   "mimetype": "text/x-python",
   "name": "python",
   "nbconvert_exporter": "python",
   "pygments_lexer": "ipython3",
   "version": "3.6.8"
  }
 },
 "nbformat": 4,
 "nbformat_minor": 1
}
